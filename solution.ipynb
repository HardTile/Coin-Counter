{
 "cells": [
  {
   "cell_type": "code",
   "execution_count": 1,
   "id": "b0a2680a-e65d-4266-9305-6d0fbca32be6",
   "metadata": {},
   "outputs": [],
   "source": [
    "import numpy as np\n",
    "\n",
    "import cv2 as cv\n",
    "import cvzone\n",
    "\n",
    "from IPython.display import clear_output"
   ]
  },
  {
   "cell_type": "markdown",
   "id": "eb02edbd-7627-4c3c-a3f2-aab21550528c",
   "metadata": {},
   "source": [
    "## Support function"
   ]
  },
  {
   "cell_type": "code",
   "execution_count": 2,
   "id": "28681b36-74d2-414a-8e15-57b04a21cb99",
   "metadata": {},
   "outputs": [],
   "source": [
    "def empty(arg):\n",
    "    pass\n",
    "\n",
    "def preprocessing(image:np.ndarray):\n",
    "    \"\"\"\n",
    "    Preprocesses the image: smoothes, finds contours and performs a morphological closure operation.\n",
    "    \"\"\"\n",
    "    threshold1, threshold2 = cv.getTrackbarPos(\"Threshold1\", \"Settings\"), cv.getTrackbarPos(\"Threshold2\", \"Settings\")\n",
    "    \n",
    "    preprocessing_image = cv.GaussianBlur(image, (5, 5), 3)\n",
    "    preprocessing_image = cv.Canny(preprocessing_image, threshold1=threshold1, threshold2=threshold2)\n",
    "    \n",
    "    kernel = np.ones((3, 3), np.uint8)\n",
    "    preprocessing_image = cv.dilate(preprocessing_image, kernel, iterations=1)\n",
    "    preprocessing_image = cv.morphologyEx(preprocessing_image, cv.MORPH_CLOSE, kernel)\n",
    "    \n",
    "    return preprocessing_image\n",
    "\n",
    "def counting_money(contours:list):\n",
    "    \"\"\"\n",
    "    Based on certain contours calculates the amount of money based on the coins in the frame. \n",
    "    Threshold values of the areas of detected objects are used for calculation.\n",
    "    \"\"\"\n",
    "    money = 0\n",
    "    \n",
    "    if contours_found:\n",
    "        for contour in contours_found:\n",
    "            # Get the length of the contour\n",
    "            peri = cv.arcLength(contour[\"cnt\"], True)\n",
    "            # Approximate the contour with a given accuracy relative to its length\n",
    "            approx = cv.approxPolyDP(contour[\"cnt\"], 0.02 * peri, True) \n",
    "            \n",
    "            if len(approx) > 5:\n",
    "                area = contour[\"area\"]\n",
    "                \n",
    "                if area > 1000 and area < 1800:\n",
    "                    money += 1\n",
    "                elif area > 1800:\n",
    "                    money += 2\n",
    "                    \n",
    "    return money"
   ]
  },
  {
   "cell_type": "markdown",
   "id": "64624fe8-3a07-4257-a5ec-ac85f8f99c69",
   "metadata": {},
   "source": [
    "## Main"
   ]
  },
  {
   "cell_type": "code",
   "execution_count": 3,
   "id": "1dd4a48c-091a-443f-b38e-6880d2b78b12",
   "metadata": {
    "tags": []
   },
   "outputs": [],
   "source": [
    "total_money = 0\n",
    "\n",
    "# Сapturing an image from a webcam\n",
    "capture = cv.VideoCapture(0)\n",
    "capture.set(3, 640)\n",
    "capture.set(4, 480)\n",
    "\n",
    "# Create window with settings\n",
    "cv.namedWindow(\"Settings\")\n",
    "cv.resizeWindow(\"Settings\", 640, 120)\n",
    "cv.createTrackbar(\"Threshold1\", \"Settings\", 50, 255, empty)\n",
    "cv.createTrackbar(\"Threshold2\", \"Settings\", 250, 255, empty)\n",
    "\n",
    "while True:\n",
    "    success, image = capture.read()\n",
    "    preprocessing_image = preprocessing(image)\n",
    "    \n",
    "    contours_image, contours_found = cvzone.findContours(image, preprocessing_image, minArea=20)\n",
    "    \n",
    "    total_money = counting_money(contours_found)\n",
    "    \n",
    "    stacked_image = cvzone.stackImages([image, contours_image], 2, 1)\n",
    "    cvzone.putTextRect(stacked_image, f\"Money (rub) = {total_money}\", (50, 50), colorR=(255, 0, 0))\n",
    "    cv.imshow(\"Coin counter\", stacked_image)\n",
    "    \n",
    "    if cv.waitKey(1) & 0xFf == ord('q'):\n",
    "        capture.release()\n",
    "        cv.destroyAllWindows()\n",
    "        break"
   ]
  }
 ],
 "metadata": {
  "kernelspec": {
   "display_name": "Computer Vision",
   "language": "python",
   "name": "cv"
  },
  "language_info": {
   "codemirror_mode": {
    "name": "ipython",
    "version": 3
   },
   "file_extension": ".py",
   "mimetype": "text/x-python",
   "name": "python",
   "nbconvert_exporter": "python",
   "pygments_lexer": "ipython3",
   "version": "3.8.13"
  }
 },
 "nbformat": 4,
 "nbformat_minor": 5
}
